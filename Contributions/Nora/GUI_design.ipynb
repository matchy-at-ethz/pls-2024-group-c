{
 "cells": [
  {
   "attachments": {},
   "cell_type": "markdown",
   "id": "e7ef3206-c9ed-4de9-9de9-519cc8bdb271",
   "metadata": {},
   "source": [
    "# Proposition for the Graphical User Interface Design and Program Set Up\n",
    "\n",
    "The user gets to choose whether they want to build a custom network with a random number of molecules of each type or choose the default network. They will then be redirected to a next screen depending on their choice:\n",
    "\n",
    "- __Default:__\n",
    "\n",
    "    For the default network they are free to change 1+ parameters by selecting the molecule and parameter via drop-down menu. The rate or number can then be choosen either by typing into an input bar or by arrows. For number of molecules only natural numbers will be accepted, for rates only positive floats. There is an add parameter button if additional parameters are to be adjusted. \n",
    "\n",
    "- __Custom:__\n",
    "\n",
    "    There is a section for each type of molecule, proteins must be filled in first. Checking the transcription factor box will automatically generate a transcription factor section in which the regulated genes (mRNA) can be selected from a drop-down menu. In the mRNA section the corresponding protein can be chosen from a drop-down menu based on the previous inputs, then all corresponding parameters are typed into a number input bar. For each section additional molecules (or deleted) can be added via an add molecule section. Upon hitting the RUN button, an array is created for each molecule containing its type and all corresponding parameters including linked molecules (e.g. mRNA to corresponding protein). The rate parameters are merged into a matrix, ideally wherein corresponding mRNA, protein and mRNA::miRNA complex are a set number of indexes apart to reduce computational load when executing the reaction. \n",
    "\n",
    "<br><br>\n",
    ">\n",
    "> NOTE:\n",
    ">\n",
    ">in further discussion we decided to go with Alain's suggestion wherein the first screen will be the default network but there will be an option to switch to a custumizable network. We have also decided that the input from the GUI will converted into a dataframe/csv file/SQL database (whichever turns out to be the most suitable, and/or feasible within the given timeframe"
   ]
  },
  {
   "attachments": {},
   "cell_type": "markdown",
   "id": "b9337d7b-47a6-47be-b76d-5d426696aa85",
   "metadata": {},
   "source": [
    "![GUI-sketch.png](GUI-sketch.png)"
   ]
  },
  {
   "attachments": {},
   "cell_type": "markdown",
   "id": "88e95563-e1c2-4d15-8ac7-8537609f521b",
   "metadata": {},
   "source": [
    "## Default Network Overview\n",
    "\n",
    "Flow chart illustrating the interactions within the default network:\n",
    "\n",
    "![miRNA-interactome.png](miRNA-interactome.png)"
   ]
  },
  {
   "cell_type": "code",
   "execution_count": null,
   "id": "6ba93496-8633-4a9e-a7b9-82ce9f364f61",
   "metadata": {},
   "outputs": [],
   "source": []
  }
 ],
 "metadata": {
  "kernelspec": {
   "display_name": "Python 3 (ipykernel)",
   "language": "python",
   "name": "python3"
  },
  "language_info": {
   "codemirror_mode": {
    "name": "ipython",
    "version": 3
   },
   "file_extension": ".py",
   "mimetype": "text/x-python",
   "name": "python",
   "nbconvert_exporter": "python",
   "pygments_lexer": "ipython3",
   "version": "3.12.6"
  }
 },
 "nbformat": 4,
 "nbformat_minor": 5
}
